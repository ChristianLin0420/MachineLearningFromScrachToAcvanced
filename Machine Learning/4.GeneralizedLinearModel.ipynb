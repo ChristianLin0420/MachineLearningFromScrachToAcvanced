{
 "metadata": {
  "language_info": {
   "codemirror_mode": {
    "name": "ipython",
    "version": 3
   },
   "file_extension": ".py",
   "mimetype": "text/x-python",
   "name": "python",
   "nbconvert_exporter": "python",
   "pygments_lexer": "ipython3",
   "version": "3.8.10"
  },
  "orig_nbformat": 4,
  "kernelspec": {
   "name": "python3",
   "display_name": "Python 3.8.10 64-bit ('apple_tensorflow': conda)"
  },
  "interpreter": {
   "hash": "4b0ebf96631fc909629e74c4875c871ba33d586cc7a220dbfe09c80f53a77b51"
  }
 },
 "nbformat": 4,
 "nbformat_minor": 2,
 "cells": [
  {
   "cell_type": "code",
   "execution_count": 19,
   "metadata": {},
   "outputs": [],
   "source": [
    "import pandas as pd\n",
    "import numpy as np\n",
    "\n",
    "from sklearn import preprocessing, linear_model\n",
    "from sklearn.linear_model import LinearRegression\n",
    "from sklearn.feature_selection import f_regression"
   ]
  },
  {
   "source": [
    "# Generalized Linear Models\n",
    "\n",
    "### GLM is a good starting point for learning more advanced statisticl modeling. Learning GLM lets you understand how we can use probability distributions as building blocks for modeling. \n",
    "\n",
    "## Linear Regression\n",
    "\n",
    "### Linear regression is used to predict the value of continuous variable y by the linear combination of explanatory variables X.\n",
    "\n",
    "$\\mu_i = b_0 + b_1 x_i$\n",
    "\n",
    "$y_i ~ \\stackrel{}{\\sim} N(\\mu_i, \\epsilon)$\n",
    "\n",
    "### Here, i indicates the index of each sample. Notice this model assumes normal distribution for the noise term. The model can be illustrated as follows:\n",
    "\n",
    "![figure](https://miro.medium.com/max/570/0*3OF9LJ_g1Fg_DtT9.png)\n",
    "\n",
    "## Poisson Regression\n",
    "\n",
    "### There are several problems if you try to apply linear regression for this kind of data.\n",
    "\n",
    "1. The relationship between X and Y does not look linear. It’s more likely to be exponential.\n",
    "\n",
    "2. The variance of Y does not look constant with regard to X. Here, the variance of Y seems to increase when X increases.\n",
    "\n",
    "3. As Y represents the number of products, it always has to be a positive integer. In other words, Y is a discrete variable. However, the normal distribution used for linear regression assumes continuous variables. This also means the prediction by linear regression can be negative. It’s not appropriate for this kind of count data.\n",
    "\n",
    "### Here, the more proper model you can think of is the Poisson regression model. Poisson regression is an example of generalized linear models (GLM).\n",
    "\n",
    "### There are three components in generalized linear models.\n",
    "\n",
    "1. Linear predictor\n",
    "2. Link function\n",
    "3. Probability distribution\n",
    "\n",
    "![figure2](https://miro.medium.com/max/641/0*-ZviuacMrYAhFbg6.png)\n",
    "\n",
    "### Linear predictor is just a linear combination of parameter (b) and explanatory variable (x).\n",
    "\n",
    "### Link function literally “links” the linear predictor and the parameter for probability distribution. In the case of Poisson regression, the typical link function is the log link function. This is because the parameter for Poisson regression must be positive (explained later).\n",
    "\n",
    "### The last component is the probability distribution which generates the observed variable y. As we use Poisson distribution here, the model is called Poisson regression.\n",
    "\n",
    "### Now, let's apply Poisson regression to our data. The result should look like this.\n",
    "\n",
    "![figure](https://miro.medium.com/max/558/0*9XhxRne56Lhvmazv.png)\n",
    "\n",
    "### The magenta curve is the prediction by Poisson regression. I added the bar plot of the prbability mass function of Poisson distribution to make the difference from linear regression clear.\n",
    "\n",
    "### The prediction curve is exponential as the inverse of the log link function is an exponential function. From this, it is also clear that the parameter for Poisson regression calculated by the linear predictor guaranteed to be positive.\n",
    "\n",
    "![figure4](https://miro.medium.com/max/388/0*wNqeqIVx2VRnFjiN.png)\n",
    "\n",
    "### If you use Python, statsmodels library can be used for GLM. \n",
    "\n"
   ],
   "cell_type": "markdown",
   "metadata": {}
  },
  {
   "cell_type": "code",
   "execution_count": 3,
   "metadata": {},
   "outputs": [
    {
     "output_type": "stream",
     "name": "stdout",
     "text": [
      "[41.51347826 -0.34088269]\n65.32391638894836\n"
     ]
    }
   ],
   "source": [
    "# Data process\n",
    "X = np.array([\n",
    "    [10, 80], [8, 0], [8, 200], [5, 200], [7, 300], [8, 230], [7, 40], [9, 0], [6, 330], [9, 180]\n",
    "])\n",
    "y = np.array([469, 366, 371, 208, 246, 297, 363, 436, 198, 364])\n",
    "\n",
    "lm = LinearRegression()\n",
    "lm.fit(X, y)\n",
    "\n",
    "print(lm.coef_)\n",
    "print(lm.intercept_ )"
   ]
  },
  {
   "cell_type": "code",
   "execution_count": 4,
   "metadata": {},
   "outputs": [
    {
     "output_type": "stream",
     "name": "stdout",
     "text": [
      "[442.96160353]\n"
     ]
    }
   ],
   "source": [
    "# Prediction\n",
    "to_be_predicted = np.array([\n",
    "    [10, 110]\n",
    "])\n",
    "\n",
    "predicted_sales = lm.predict(to_be_predicted)\n",
    "print(predicted_sales)"
   ]
  },
  {
   "cell_type": "code",
   "execution_count": 6,
   "metadata": {},
   "outputs": [
    {
     "output_type": "stream",
     "name": "stdout",
     "text": [
      "mse: 417.3006119994701\nr_squared: 0.945235852681711\nadj_r_squared: 0.929588953447914\n"
     ]
    }
   ],
   "source": [
    "# Evaluate the performance\n",
    "mse = np.mean((lm.predict(X) - y) ** 2)\n",
    "r_squared = lm.score(X, y)\n",
    "adj_r_squared = r_squared - (1 - r_squared) * (X.shape[1] / (X.shape[0] - X.shape[1] - 1))\n",
    "\n",
    "print(\"mse: {}\".format(mse))\n",
    "print(\"r_squared: {}\".format(r_squared))\n",
    "print(\"adj_r_squared: {}\".format(adj_r_squared))"
   ]
  },
  {
   "cell_type": "code",
   "execution_count": 10,
   "metadata": {},
   "outputs": [
    {
     "output_type": "stream",
     "name": "stdout",
     "text": [
      "[0.00051435 0.00844837]\n"
     ]
    }
   ],
   "source": [
    "# P-value\n",
    "print(f_regression(X, y)[1])"
   ]
  },
  {
   "cell_type": "code",
   "execution_count": 21,
   "metadata": {},
   "outputs": [
    {
     "output_type": "stream",
     "name": "stdout",
     "text": [
      "[[-1.14125534 -2.519584   -0.03271785]]\n[4.58517765]\nP-value: [2.53704739e-25 1.40606613e-69 5.27606885e-02]\naccuracy: 0.7878787878787878\n"
     ]
    }
   ],
   "source": [
    "# Build Logistic Regression model\n",
    "path = \"./rsc/train.csv\"\n",
    "titanic_train = pd.read_csv(path)\n",
    "\n",
    "# Filled empty block(Age) with mdian value\n",
    "age_median = np.nanmedian(titanic_train[\"Age\"])\n",
    "new_Age = np.where(titanic_train[\"Age\"].isnull(), age_median, titanic_train[\"Age\"])\n",
    "titanic_train[\"Age\"] = new_Age\n",
    "\n",
    "# Create dummy variables\n",
    "label_encoder = preprocessing.LabelEncoder()\n",
    "encoded_Sex = label_encoder.fit_transform(titanic_train[\"Sex\"])\n",
    "\n",
    "# Build train_X\n",
    "train_X = pd.DataFrame([titanic_train[\"Pclass\"],\n",
    "                        encoded_Sex,\n",
    "                        titanic_train[\"Age\"]]).T\n",
    "\n",
    "# Build Model\n",
    "logistic_regr = linear_model.LogisticRegression()\n",
    "logistic_regr.fit(train_X, titanic_train[\"Survived\"])\n",
    "\n",
    "print(logistic_regr.coef_)\n",
    "print(logistic_regr.intercept_ )\n",
    "\n",
    "# Get P-value\n",
    "print(\"P-value: {}\".format(f_regression(train_X, titanic_train[\"Survived\"])[1]))\n",
    "\n",
    "# Accuracy\n",
    "survived_predictions = logistic_regr.predict(train_X)\n",
    "accuracy = logistic_regr.score(train_X, titanic_train[\"Survived\"])\n",
    "print(\"accuracy: {}\".format(accuracy))"
   ]
  },
  {
   "cell_type": "code",
   "execution_count": null,
   "metadata": {},
   "outputs": [],
   "source": []
  }
 ]
}