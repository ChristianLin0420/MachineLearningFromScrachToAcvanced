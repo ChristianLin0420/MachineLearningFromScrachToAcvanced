{
 "metadata": {
  "language_info": {
   "codemirror_mode": {
    "name": "ipython",
    "version": 3
   },
   "file_extension": ".py",
   "mimetype": "text/x-python",
   "name": "python",
   "nbconvert_exporter": "python",
   "pygments_lexer": "ipython3",
   "version": "3.8.10"
  },
  "orig_nbformat": 4,
  "kernelspec": {
   "name": "python3",
   "display_name": "Python 3.8.10 64-bit ('apple_tensorflow': conda)"
  },
  "interpreter": {
   "hash": "4b0ebf96631fc909629e74c4875c871ba33d586cc7a220dbfe09c80f53a77b51"
  }
 },
 "nbformat": 4,
 "nbformat_minor": 2,
 "cells": [
  {
   "cell_type": "code",
   "execution_count": 13,
   "metadata": {},
   "outputs": [],
   "source": [
    "import numpy as np\n",
    "import pandas as pd\n",
    "import matplotlib.pyplot as plt\n",
    "\n",
    "from scipy import stats\n",
    "from sklearn.utils import shuffle\n",
    "from sklearn.model_selection import train_test_split\n",
    "from sklearn.metrics import accuracy_score\n",
    "\n",
    "# use seaborn plotting defaults\n",
    "import seaborn as sns; sns.set()"
   ]
  },
  {
   "source": [
    "# Support Vector Machines\n",
    "\n",
    "### The objective of the support vector machine algorithm is to find a hyperplane in an N-dimensional space(N — the number of features) that distinctly classifies the data points.\n",
    "\n",
    "![figure1](https://miro.medium.com/max/600/0*9jEWNXTAao7phK-5.png)\n",
    "![figure2](https://miro.medium.com/max/600/0*0o8xIA4k3gXUDCFU.png)\n",
    "\n",
    "### To separate the two classes of data points, there are many possible hyperplanes that could be chosen. Our objective is to find a plane that has the maximum margin, i.e the maximum distance between data points of both classes. Maximizing the margin distance provides some reinforcement so that future data points can be classified with more confidence.\n",
    "\n",
    "## Hyperplanes and Support Vectors\n",
    "\n",
    "![figure3](https://miro.medium.com/max/1400/1*ZpkLQf2FNfzfH4HXeMw4MQ.png)\n",
    "\n",
    "### Hyperplanes are decision boundaries that help classify the data points. Data points falling on either side of the hyperplane can be attributed to different classes. Also, the dimension of the hyperplane depends upon the number of features. If the number of input features is 2, then the hyperplane is just a line. If the number of input features is 3, then the hyperplane becomes a two-dimensional plane. It becomes difficult to imagine when the number of features exceeds 3.\n",
    "\n",
    "![figure4](https://miro.medium.com/max/700/0*ecA4Ls8kBYSM5nza.jpg)\n",
    "\n",
    "### Support vectors are data points that are closer to the hyperplane and influence the position and orientation of the hyperplane. Using these support vectors, we maximize the margin of the classifier. Deleting the support vectors will change the position of the hyperplane. These are the points that help us build our SVM."
   ],
   "cell_type": "markdown",
   "metadata": {}
  },
  {
   "cell_type": "code",
   "execution_count": 7,
   "metadata": {},
   "outputs": [],
   "source": [
    "# Read data\n",
    "df = pd.read_csv('rsc/iris.csv')  # dataset can be download from https://www.kaggle.com/jchen2186/machine-learning-with-iris-dataset/data\n",
    "df = df.drop(['Id'],axis=1)\n",
    "target = df['Species']\n",
    "s = set()\n",
    "\n",
    "for val in target:\n",
    "    s.add(val)\n",
    "\n",
    "s = list(s)\n",
    "rows = list(range(100,150)) # drop 3rd class data\n",
    "df = df.drop(df.index[rows])"
   ]
  },
  {
   "cell_type": "code",
   "execution_count": 8,
   "metadata": {},
   "outputs": [
    {
     "output_type": "display_data",
     "data": {
      "text/plain": "<Figure size 576x432 with 1 Axes>",
      "image/svg+xml": "<?xml version=\"1.0\" encoding=\"utf-8\" standalone=\"no\"?>\n<!DOCTYPE svg PUBLIC \"-//W3C//DTD SVG 1.1//EN\"\n  \"http://www.w3.org/Graphics/SVG/1.1/DTD/svg11.dtd\">\n<svg height=\"360.119844pt\" version=\"1.1\" viewBox=\"0 0 476.417031 360.119844\" width=\"476.417031pt\" xmlns=\"http://www.w3.org/2000/svg\" xmlns:xlink=\"http://www.w3.org/1999/xlink\">\n <metadata>\n  <rdf:RDF xmlns:cc=\"http://creativecommons.org/ns#\" xmlns:dc=\"http://purl.org/dc/elements/1.1/\" xmlns:rdf=\"http://www.w3.org/1999/02/22-rdf-syntax-ns#\">\n   <cc:Work>\n    <dc:type rdf:resource=\"http://purl.org/dc/dcmitype/StillImage\"/>\n    <dc:date>2021-07-12T23:05:43.293526</dc:date>\n    <dc:format>image/svg+xml</dc:format>\n    <dc:creator>\n     <cc:Agent>\n      <dc:title>Matplotlib v3.4.2, https://matplotlib.org/</dc:title>\n     </cc:Agent>\n    </dc:creator>\n   </cc:Work>\n  </rdf:RDF>\n </metadata>\n <defs>\n  <style type=\"text/css\">*{stroke-linecap:butt;stroke-linejoin:round;}</style>\n </defs>\n <g id=\"figure_1\">\n  <g id=\"patch_1\">\n   <path d=\"M 0 360.119844 \nL 476.417031 360.119844 \nL 476.417031 0 \nL 0 0 \nz\n\" style=\"fill:#ffffff;\"/>\n  </g>\n  <g id=\"axes_1\">\n   <g id=\"patch_2\">\n    <path d=\"M 22.817031 333.36 \nL 469.217031 333.36 \nL 469.217031 7.2 \nL 22.817031 7.2 \nz\n\" style=\"fill:#eaeaf2;\"/>\n   </g>\n   <g id=\"matplotlib.axis_1\">\n    <g id=\"xtick_1\">\n     <g id=\"line2d_1\">\n      <path clip-path=\"url(#p825728a7c0)\" d=\"M 73.168546 333.36 \nL 73.168546 7.2 \n\" style=\"fill:none;stroke:#ffffff;stroke-linecap:round;\"/>\n     </g>\n     <g id=\"text_1\">\n      <!-- 4.5 -->\n      <g style=\"fill:#262626;\" transform=\"translate(65.523546 350.733594)scale(0.11 -0.11)\">\n       <defs>\n        <path d=\"M 2069 0 \nL 2069 1097 \nL 81 1097 \nL 81 1613 \nL 2172 4581 \nL 2631 4581 \nL 2631 1613 \nL 3250 1613 \nL 3250 1097 \nL 2631 1097 \nL 2631 0 \nL 2069 0 \nz\nM 2069 1613 \nL 2069 3678 \nL 634 1613 \nL 2069 1613 \nz\n\" id=\"ArialMT-34\" transform=\"scale(0.015625)\"/>\n        <path d=\"M 581 0 \nL 581 641 \nL 1222 641 \nL 1222 0 \nL 581 0 \nz\n\" id=\"ArialMT-2e\" transform=\"scale(0.015625)\"/>\n        <path d=\"M 266 1200 \nL 856 1250 \nQ 922 819 1161 601 \nQ 1400 384 1738 384 \nQ 2144 384 2425 690 \nQ 2706 997 2706 1503 \nQ 2706 1984 2436 2262 \nQ 2166 2541 1728 2541 \nQ 1456 2541 1237 2417 \nQ 1019 2294 894 2097 \nL 366 2166 \nL 809 4519 \nL 3088 4519 \nL 3088 3981 \nL 1259 3981 \nL 1013 2750 \nQ 1425 3038 1878 3038 \nQ 2478 3038 2890 2622 \nQ 3303 2206 3303 1553 \nQ 3303 931 2941 478 \nQ 2500 -78 1738 -78 \nQ 1113 -78 717 272 \nQ 322 622 266 1200 \nz\n\" id=\"ArialMT-35\" transform=\"scale(0.015625)\"/>\n       </defs>\n       <use xlink:href=\"#ArialMT-34\"/>\n       <use x=\"55.615234\" xlink:href=\"#ArialMT-2e\"/>\n       <use x=\"83.398438\" xlink:href=\"#ArialMT-35\"/>\n      </g>\n     </g>\n    </g>\n    <g id=\"xtick_2\">\n     <g id=\"line2d_2\">\n      <path clip-path=\"url(#p825728a7c0)\" d=\"M 148.320062 333.36 \nL 148.320062 7.2 \n\" style=\"fill:none;stroke:#ffffff;stroke-linecap:round;\"/>\n     </g>\n     <g id=\"text_2\">\n      <!-- 5.0 -->\n      <g style=\"fill:#262626;\" transform=\"translate(140.675062 350.733594)scale(0.11 -0.11)\">\n       <defs>\n        <path d=\"M 266 2259 \nQ 266 3072 433 3567 \nQ 600 4063 929 4331 \nQ 1259 4600 1759 4600 \nQ 2128 4600 2406 4451 \nQ 2684 4303 2865 4023 \nQ 3047 3744 3150 3342 \nQ 3253 2941 3253 2259 \nQ 3253 1453 3087 958 \nQ 2922 463 2592 192 \nQ 2263 -78 1759 -78 \nQ 1097 -78 719 397 \nQ 266 969 266 2259 \nz\nM 844 2259 \nQ 844 1131 1108 757 \nQ 1372 384 1759 384 \nQ 2147 384 2411 759 \nQ 2675 1134 2675 2259 \nQ 2675 3391 2411 3762 \nQ 2147 4134 1753 4134 \nQ 1366 4134 1134 3806 \nQ 844 3388 844 2259 \nz\n\" id=\"ArialMT-30\" transform=\"scale(0.015625)\"/>\n       </defs>\n       <use xlink:href=\"#ArialMT-35\"/>\n       <use x=\"55.615234\" xlink:href=\"#ArialMT-2e\"/>\n       <use x=\"83.398438\" xlink:href=\"#ArialMT-30\"/>\n      </g>\n     </g>\n    </g>\n    <g id=\"xtick_3\">\n     <g id=\"line2d_3\">\n      <path clip-path=\"url(#p825728a7c0)\" d=\"M 223.471577 333.36 \nL 223.471577 7.2 \n\" style=\"fill:none;stroke:#ffffff;stroke-linecap:round;\"/>\n     </g>\n     <g id=\"text_3\">\n      <!-- 5.5 -->\n      <g style=\"fill:#262626;\" transform=\"translate(215.826577 350.733594)scale(0.11 -0.11)\">\n       <use xlink:href=\"#ArialMT-35\"/>\n       <use x=\"55.615234\" xlink:href=\"#ArialMT-2e\"/>\n       <use x=\"83.398438\" xlink:href=\"#ArialMT-35\"/>\n      </g>\n     </g>\n    </g>\n    <g id=\"xtick_4\">\n     <g id=\"line2d_4\">\n      <path clip-path=\"url(#p825728a7c0)\" d=\"M 298.623092 333.36 \nL 298.623092 7.2 \n\" style=\"fill:none;stroke:#ffffff;stroke-linecap:round;\"/>\n     </g>\n     <g id=\"text_4\">\n      <!-- 6.0 -->\n      <g style=\"fill:#262626;\" transform=\"translate(290.978092 350.733594)scale(0.11 -0.11)\">\n       <defs>\n        <path d=\"M 3184 3459 \nL 2625 3416 \nQ 2550 3747 2413 3897 \nQ 2184 4138 1850 4138 \nQ 1581 4138 1378 3988 \nQ 1113 3794 959 3422 \nQ 806 3050 800 2363 \nQ 1003 2672 1297 2822 \nQ 1591 2972 1913 2972 \nQ 2475 2972 2870 2558 \nQ 3266 2144 3266 1488 \nQ 3266 1056 3080 686 \nQ 2894 316 2569 119 \nQ 2244 -78 1831 -78 \nQ 1128 -78 684 439 \nQ 241 956 241 2144 \nQ 241 3472 731 4075 \nQ 1159 4600 1884 4600 \nQ 2425 4600 2770 4297 \nQ 3116 3994 3184 3459 \nz\nM 888 1484 \nQ 888 1194 1011 928 \nQ 1134 663 1356 523 \nQ 1578 384 1822 384 \nQ 2178 384 2434 671 \nQ 2691 959 2691 1453 \nQ 2691 1928 2437 2201 \nQ 2184 2475 1800 2475 \nQ 1419 2475 1153 2201 \nQ 888 1928 888 1484 \nz\n\" id=\"ArialMT-36\" transform=\"scale(0.015625)\"/>\n       </defs>\n       <use xlink:href=\"#ArialMT-36\"/>\n       <use x=\"55.615234\" xlink:href=\"#ArialMT-2e\"/>\n       <use x=\"83.398438\" xlink:href=\"#ArialMT-30\"/>\n      </g>\n     </g>\n    </g>\n    <g id=\"xtick_5\">\n     <g id=\"line2d_5\">\n      <path clip-path=\"url(#p825728a7c0)\" d=\"M 373.774607 333.36 \nL 373.774607 7.2 \n\" style=\"fill:none;stroke:#ffffff;stroke-linecap:round;\"/>\n     </g>\n     <g id=\"text_5\">\n      <!-- 6.5 -->\n      <g style=\"fill:#262626;\" transform=\"translate(366.129607 350.733594)scale(0.11 -0.11)\">\n       <use xlink:href=\"#ArialMT-36\"/>\n       <use x=\"55.615234\" xlink:href=\"#ArialMT-2e\"/>\n       <use x=\"83.398438\" xlink:href=\"#ArialMT-35\"/>\n      </g>\n     </g>\n    </g>\n    <g id=\"xtick_6\">\n     <g id=\"line2d_6\">\n      <path clip-path=\"url(#p825728a7c0)\" d=\"M 448.926122 333.36 \nL 448.926122 7.2 \n\" style=\"fill:none;stroke:#ffffff;stroke-linecap:round;\"/>\n     </g>\n     <g id=\"text_6\">\n      <!-- 7.0 -->\n      <g style=\"fill:#262626;\" transform=\"translate(441.281122 350.733594)scale(0.11 -0.11)\">\n       <defs>\n        <path d=\"M 303 3981 \nL 303 4522 \nL 3269 4522 \nL 3269 4084 \nQ 2831 3619 2401 2847 \nQ 1972 2075 1738 1259 \nQ 1569 684 1522 0 \nL 944 0 \nQ 953 541 1156 1306 \nQ 1359 2072 1739 2783 \nQ 2119 3494 2547 3981 \nL 303 3981 \nz\n\" id=\"ArialMT-37\" transform=\"scale(0.015625)\"/>\n       </defs>\n       <use xlink:href=\"#ArialMT-37\"/>\n       <use x=\"55.615234\" xlink:href=\"#ArialMT-2e\"/>\n       <use x=\"83.398438\" xlink:href=\"#ArialMT-30\"/>\n      </g>\n     </g>\n    </g>\n   </g>\n   <g id=\"matplotlib.axis_2\">\n    <g id=\"ytick_1\">\n     <g id=\"line2d_7\">\n      <path clip-path=\"url(#p825728a7c0)\" d=\"M 22.817031 318.534545 \nL 469.217031 318.534545 \n\" style=\"fill:none;stroke:#ffffff;stroke-linecap:round;\"/>\n     </g>\n     <g id=\"text_7\">\n      <!-- 1 -->\n      <g style=\"fill:#262626;\" transform=\"translate(7.2 322.471342)scale(0.11 -0.11)\">\n       <defs>\n        <path d=\"M 2384 0 \nL 1822 0 \nL 1822 3584 \nQ 1619 3391 1289 3197 \nQ 959 3003 697 2906 \nL 697 3450 \nQ 1169 3672 1522 3987 \nQ 1875 4303 2022 4600 \nL 2384 4600 \nL 2384 0 \nz\n\" id=\"ArialMT-31\" transform=\"scale(0.015625)\"/>\n       </defs>\n       <use xlink:href=\"#ArialMT-31\"/>\n      </g>\n     </g>\n    </g>\n    <g id=\"ytick_2\">\n     <g id=\"line2d_8\">\n      <path clip-path=\"url(#p825728a7c0)\" d=\"M 22.817031 246.215255 \nL 469.217031 246.215255 \n\" style=\"fill:none;stroke:#ffffff;stroke-linecap:round;\"/>\n     </g>\n     <g id=\"text_8\">\n      <!-- 2 -->\n      <g style=\"fill:#262626;\" transform=\"translate(7.2 250.152052)scale(0.11 -0.11)\">\n       <defs>\n        <path d=\"M 3222 541 \nL 3222 0 \nL 194 0 \nQ 188 203 259 391 \nQ 375 700 629 1000 \nQ 884 1300 1366 1694 \nQ 2113 2306 2375 2664 \nQ 2638 3022 2638 3341 \nQ 2638 3675 2398 3904 \nQ 2159 4134 1775 4134 \nQ 1369 4134 1125 3890 \nQ 881 3647 878 3216 \nL 300 3275 \nQ 359 3922 746 4261 \nQ 1134 4600 1788 4600 \nQ 2447 4600 2831 4234 \nQ 3216 3869 3216 3328 \nQ 3216 3053 3103 2787 \nQ 2991 2522 2730 2228 \nQ 2469 1934 1863 1422 \nQ 1356 997 1212 845 \nQ 1069 694 975 541 \nL 3222 541 \nz\n\" id=\"ArialMT-32\" transform=\"scale(0.015625)\"/>\n       </defs>\n       <use xlink:href=\"#ArialMT-32\"/>\n      </g>\n     </g>\n    </g>\n    <g id=\"ytick_3\">\n     <g id=\"line2d_9\">\n      <path clip-path=\"url(#p825728a7c0)\" d=\"M 22.817031 173.895965 \nL 469.217031 173.895965 \n\" style=\"fill:none;stroke:#ffffff;stroke-linecap:round;\"/>\n     </g>\n     <g id=\"text_9\">\n      <!-- 3 -->\n      <g style=\"fill:#262626;\" transform=\"translate(7.2 177.832761)scale(0.11 -0.11)\">\n       <defs>\n        <path d=\"M 269 1209 \nL 831 1284 \nQ 928 806 1161 595 \nQ 1394 384 1728 384 \nQ 2125 384 2398 659 \nQ 2672 934 2672 1341 \nQ 2672 1728 2419 1979 \nQ 2166 2231 1775 2231 \nQ 1616 2231 1378 2169 \nL 1441 2663 \nQ 1497 2656 1531 2656 \nQ 1891 2656 2178 2843 \nQ 2466 3031 2466 3422 \nQ 2466 3731 2256 3934 \nQ 2047 4138 1716 4138 \nQ 1388 4138 1169 3931 \nQ 950 3725 888 3313 \nL 325 3413 \nQ 428 3978 793 4289 \nQ 1159 4600 1703 4600 \nQ 2078 4600 2393 4439 \nQ 2709 4278 2876 4000 \nQ 3044 3722 3044 3409 \nQ 3044 3113 2884 2869 \nQ 2725 2625 2413 2481 \nQ 2819 2388 3044 2092 \nQ 3269 1797 3269 1353 \nQ 3269 753 2831 336 \nQ 2394 -81 1725 -81 \nQ 1122 -81 723 278 \nQ 325 638 269 1209 \nz\n\" id=\"ArialMT-33\" transform=\"scale(0.015625)\"/>\n       </defs>\n       <use xlink:href=\"#ArialMT-33\"/>\n      </g>\n     </g>\n    </g>\n    <g id=\"ytick_4\">\n     <g id=\"line2d_10\">\n      <path clip-path=\"url(#p825728a7c0)\" d=\"M 22.817031 101.576674 \nL 469.217031 101.576674 \n\" style=\"fill:none;stroke:#ffffff;stroke-linecap:round;\"/>\n     </g>\n     <g id=\"text_10\">\n      <!-- 4 -->\n      <g style=\"fill:#262626;\" transform=\"translate(7.2 105.513471)scale(0.11 -0.11)\">\n       <use xlink:href=\"#ArialMT-34\"/>\n      </g>\n     </g>\n    </g>\n    <g id=\"ytick_5\">\n     <g id=\"line2d_11\">\n      <path clip-path=\"url(#p825728a7c0)\" d=\"M 22.817031 29.257384 \nL 469.217031 29.257384 \n\" style=\"fill:none;stroke:#ffffff;stroke-linecap:round;\"/>\n     </g>\n     <g id=\"text_11\">\n      <!-- 5 -->\n      <g style=\"fill:#262626;\" transform=\"translate(7.2 33.19418)scale(0.11 -0.11)\">\n       <use xlink:href=\"#ArialMT-35\"/>\n      </g>\n     </g>\n    </g>\n   </g>\n   <g id=\"PathCollection_1\">\n    <defs>\n     <path d=\"M -3 0 \nL 3 0 \nM 0 3 \nL 0 -3 \n\" id=\"m0c1baff1fa\" style=\"stroke:#008000;stroke-width:1.5;\"/>\n    </defs>\n    <g clip-path=\"url(#p825728a7c0)\">\n     <use style=\"fill:#008000;stroke:#008000;stroke-width:1.5;\" x=\"163.350365\" xlink:href=\"#m0c1baff1fa\" y=\"289.606829\"/>\n     <use style=\"fill:#008000;stroke:#008000;stroke-width:1.5;\" x=\"133.289759\" xlink:href=\"#m0c1baff1fa\" y=\"289.606829\"/>\n     <use style=\"fill:#008000;stroke:#008000;stroke-width:1.5;\" x=\"103.229152\" xlink:href=\"#m0c1baff1fa\" y=\"296.838758\"/>\n     <use style=\"fill:#008000;stroke:#008000;stroke-width:1.5;\" x=\"88.198849\" xlink:href=\"#m0c1baff1fa\" y=\"282.3749\"/>\n     <use style=\"fill:#008000;stroke:#008000;stroke-width:1.5;\" x=\"148.320062\" xlink:href=\"#m0c1baff1fa\" y=\"289.606829\"/>\n     <use style=\"fill:#008000;stroke:#008000;stroke-width:1.5;\" x=\"208.441274\" xlink:href=\"#m0c1baff1fa\" y=\"267.911042\"/>\n     <use style=\"fill:#008000;stroke:#008000;stroke-width:1.5;\" x=\"88.198849\" xlink:href=\"#m0c1baff1fa\" y=\"289.606829\"/>\n     <use style=\"fill:#008000;stroke:#008000;stroke-width:1.5;\" x=\"148.320062\" xlink:href=\"#m0c1baff1fa\" y=\"282.3749\"/>\n     <use style=\"fill:#008000;stroke:#008000;stroke-width:1.5;\" x=\"58.138243\" xlink:href=\"#m0c1baff1fa\" y=\"289.606829\"/>\n     <use style=\"fill:#008000;stroke:#008000;stroke-width:1.5;\" x=\"133.289759\" xlink:href=\"#m0c1baff1fa\" y=\"282.3749\"/>\n     <use style=\"fill:#008000;stroke:#008000;stroke-width:1.5;\" x=\"208.441274\" xlink:href=\"#m0c1baff1fa\" y=\"282.3749\"/>\n     <use style=\"fill:#008000;stroke:#008000;stroke-width:1.5;\" x=\"118.259455\" xlink:href=\"#m0c1baff1fa\" y=\"275.142971\"/>\n     <use style=\"fill:#008000;stroke:#008000;stroke-width:1.5;\" x=\"118.259455\" xlink:href=\"#m0c1baff1fa\" y=\"289.606829\"/>\n     <use style=\"fill:#008000;stroke:#008000;stroke-width:1.5;\" x=\"43.10794\" xlink:href=\"#m0c1baff1fa\" y=\"311.302616\"/>\n     <use style=\"fill:#008000;stroke:#008000;stroke-width:1.5;\" x=\"268.562486\" xlink:href=\"#m0c1baff1fa\" y=\"304.070687\"/>\n     <use style=\"fill:#008000;stroke:#008000;stroke-width:1.5;\" x=\"253.532183\" xlink:href=\"#m0c1baff1fa\" y=\"282.3749\"/>\n     <use style=\"fill:#008000;stroke:#008000;stroke-width:1.5;\" x=\"208.441274\" xlink:href=\"#m0c1baff1fa\" y=\"296.838758\"/>\n     <use style=\"fill:#008000;stroke:#008000;stroke-width:1.5;\" x=\"163.350365\" xlink:href=\"#m0c1baff1fa\" y=\"289.606829\"/>\n     <use style=\"fill:#008000;stroke:#008000;stroke-width:1.5;\" x=\"253.532183\" xlink:href=\"#m0c1baff1fa\" y=\"267.911042\"/>\n     <use style=\"fill:#008000;stroke:#008000;stroke-width:1.5;\" x=\"163.350365\" xlink:href=\"#m0c1baff1fa\" y=\"282.3749\"/>\n     <use style=\"fill:#008000;stroke:#008000;stroke-width:1.5;\" x=\"208.441274\" xlink:href=\"#m0c1baff1fa\" y=\"267.911042\"/>\n     <use style=\"fill:#008000;stroke:#008000;stroke-width:1.5;\" x=\"163.350365\" xlink:href=\"#m0c1baff1fa\" y=\"282.3749\"/>\n     <use style=\"fill:#008000;stroke:#008000;stroke-width:1.5;\" x=\"88.198849\" xlink:href=\"#m0c1baff1fa\" y=\"318.534545\"/>\n     <use style=\"fill:#008000;stroke:#008000;stroke-width:1.5;\" x=\"163.350365\" xlink:href=\"#m0c1baff1fa\" y=\"267.911042\"/>\n     <use style=\"fill:#008000;stroke:#008000;stroke-width:1.5;\" x=\"118.259455\" xlink:href=\"#m0c1baff1fa\" y=\"253.447184\"/>\n     <use style=\"fill:#008000;stroke:#008000;stroke-width:1.5;\" x=\"148.320062\" xlink:href=\"#m0c1baff1fa\" y=\"275.142971\"/>\n     <use style=\"fill:#008000;stroke:#008000;stroke-width:1.5;\" x=\"148.320062\" xlink:href=\"#m0c1baff1fa\" y=\"275.142971\"/>\n     <use style=\"fill:#008000;stroke:#008000;stroke-width:1.5;\" x=\"178.380668\" xlink:href=\"#m0c1baff1fa\" y=\"282.3749\"/>\n     <use style=\"fill:#008000;stroke:#008000;stroke-width:1.5;\" x=\"178.380668\" xlink:href=\"#m0c1baff1fa\" y=\"289.606829\"/>\n     <use style=\"fill:#008000;stroke:#008000;stroke-width:1.5;\" x=\"103.229152\" xlink:href=\"#m0c1baff1fa\" y=\"275.142971\"/>\n     <use style=\"fill:#008000;stroke:#008000;stroke-width:1.5;\" x=\"118.259455\" xlink:href=\"#m0c1baff1fa\" y=\"275.142971\"/>\n     <use style=\"fill:#008000;stroke:#008000;stroke-width:1.5;\" x=\"208.441274\" xlink:href=\"#m0c1baff1fa\" y=\"282.3749\"/>\n     <use style=\"fill:#008000;stroke:#008000;stroke-width:1.5;\" x=\"178.380668\" xlink:href=\"#m0c1baff1fa\" y=\"282.3749\"/>\n     <use style=\"fill:#008000;stroke:#008000;stroke-width:1.5;\" x=\"223.471577\" xlink:href=\"#m0c1baff1fa\" y=\"289.606829\"/>\n     <use style=\"fill:#008000;stroke:#008000;stroke-width:1.5;\" x=\"133.289759\" xlink:href=\"#m0c1baff1fa\" y=\"282.3749\"/>\n     <use style=\"fill:#008000;stroke:#008000;stroke-width:1.5;\" x=\"148.320062\" xlink:href=\"#m0c1baff1fa\" y=\"304.070687\"/>\n     <use style=\"fill:#008000;stroke:#008000;stroke-width:1.5;\" x=\"223.471577\" xlink:href=\"#m0c1baff1fa\" y=\"296.838758\"/>\n     <use style=\"fill:#008000;stroke:#008000;stroke-width:1.5;\" x=\"133.289759\" xlink:href=\"#m0c1baff1fa\" y=\"282.3749\"/>\n     <use style=\"fill:#008000;stroke:#008000;stroke-width:1.5;\" x=\"58.138243\" xlink:href=\"#m0c1baff1fa\" y=\"296.838758\"/>\n     <use style=\"fill:#008000;stroke:#008000;stroke-width:1.5;\" x=\"163.350365\" xlink:href=\"#m0c1baff1fa\" y=\"282.3749\"/>\n     <use style=\"fill:#008000;stroke:#008000;stroke-width:1.5;\" x=\"148.320062\" xlink:href=\"#m0c1baff1fa\" y=\"296.838758\"/>\n     <use style=\"fill:#008000;stroke:#008000;stroke-width:1.5;\" x=\"73.168546\" xlink:href=\"#m0c1baff1fa\" y=\"296.838758\"/>\n     <use style=\"fill:#008000;stroke:#008000;stroke-width:1.5;\" x=\"58.138243\" xlink:href=\"#m0c1baff1fa\" y=\"296.838758\"/>\n     <use style=\"fill:#008000;stroke:#008000;stroke-width:1.5;\" x=\"148.320062\" xlink:href=\"#m0c1baff1fa\" y=\"275.142971\"/>\n     <use style=\"fill:#008000;stroke:#008000;stroke-width:1.5;\" x=\"163.350365\" xlink:href=\"#m0c1baff1fa\" y=\"253.447184\"/>\n     <use style=\"fill:#008000;stroke:#008000;stroke-width:1.5;\" x=\"118.259455\" xlink:href=\"#m0c1baff1fa\" y=\"289.606829\"/>\n     <use style=\"fill:#008000;stroke:#008000;stroke-width:1.5;\" x=\"163.350365\" xlink:href=\"#m0c1baff1fa\" y=\"275.142971\"/>\n     <use style=\"fill:#008000;stroke:#008000;stroke-width:1.5;\" x=\"88.198849\" xlink:href=\"#m0c1baff1fa\" y=\"289.606829\"/>\n     <use style=\"fill:#008000;stroke:#008000;stroke-width:1.5;\" x=\"193.410971\" xlink:href=\"#m0c1baff1fa\" y=\"282.3749\"/>\n     <use style=\"fill:#008000;stroke:#008000;stroke-width:1.5;\" x=\"148.320062\" xlink:href=\"#m0c1baff1fa\" y=\"289.606829\"/>\n    </g>\n   </g>\n   <g id=\"PathCollection_2\">\n    <defs>\n     <path d=\"M 3 0 \nL -3 -0 \n\" id=\"m08d7c01258\" style=\"stroke:#ff0000;stroke-width:1.5;\"/>\n    </defs>\n    <g clip-path=\"url(#p825728a7c0)\">\n     <use style=\"fill:#ff0000;stroke:#ff0000;stroke-width:1.5;\" x=\"448.926122\" xlink:href=\"#m08d7c01258\" y=\"50.953171\"/>\n     <use style=\"fill:#ff0000;stroke:#ff0000;stroke-width:1.5;\" x=\"358.744304\" xlink:href=\"#m08d7c01258\" y=\"65.417029\"/>\n     <use style=\"fill:#ff0000;stroke:#ff0000;stroke-width:1.5;\" x=\"433.895819\" xlink:href=\"#m08d7c01258\" y=\"36.489313\"/>\n     <use style=\"fill:#ff0000;stroke:#ff0000;stroke-width:1.5;\" x=\"223.471577\" xlink:href=\"#m08d7c01258\" y=\"101.576674\"/>\n     <use style=\"fill:#ff0000;stroke:#ff0000;stroke-width:1.5;\" x=\"373.774607\" xlink:href=\"#m08d7c01258\" y=\"58.1851\"/>\n     <use style=\"fill:#ff0000;stroke:#ff0000;stroke-width:1.5;\" x=\"253.532183\" xlink:href=\"#m08d7c01258\" y=\"65.417029\"/>\n     <use style=\"fill:#ff0000;stroke:#ff0000;stroke-width:1.5;\" x=\"343.714001\" xlink:href=\"#m08d7c01258\" y=\"50.953171\"/>\n     <use style=\"fill:#ff0000;stroke:#ff0000;stroke-width:1.5;\" x=\"133.289759\" xlink:href=\"#m08d7c01258\" y=\"152.200177\"/>\n     <use style=\"fill:#ff0000;stroke:#ff0000;stroke-width:1.5;\" x=\"388.80491\" xlink:href=\"#m08d7c01258\" y=\"58.1851\"/>\n     <use style=\"fill:#ff0000;stroke:#ff0000;stroke-width:1.5;\" x=\"178.380668\" xlink:href=\"#m08d7c01258\" y=\"108.808603\"/>\n     <use style=\"fill:#ff0000;stroke:#ff0000;stroke-width:1.5;\" x=\"148.320062\" xlink:href=\"#m08d7c01258\" y=\"137.736319\"/>\n     <use style=\"fill:#ff0000;stroke:#ff0000;stroke-width:1.5;\" x=\"283.592789\" xlink:href=\"#m08d7c01258\" y=\"87.112816\"/>\n     <use style=\"fill:#ff0000;stroke:#ff0000;stroke-width:1.5;\" x=\"298.623092\" xlink:href=\"#m08d7c01258\" y=\"101.576674\"/>\n     <use style=\"fill:#ff0000;stroke:#ff0000;stroke-width:1.5;\" x=\"313.653395\" xlink:href=\"#m08d7c01258\" y=\"50.953171\"/>\n     <use style=\"fill:#ff0000;stroke:#ff0000;stroke-width:1.5;\" x=\"238.50188\" xlink:href=\"#m08d7c01258\" y=\"130.50439\"/>\n     <use style=\"fill:#ff0000;stroke:#ff0000;stroke-width:1.5;\" x=\"403.835213\" xlink:href=\"#m08d7c01258\" y=\"72.648958\"/>\n     <use style=\"fill:#ff0000;stroke:#ff0000;stroke-width:1.5;\" x=\"238.50188\" xlink:href=\"#m08d7c01258\" y=\"65.417029\"/>\n     <use style=\"fill:#ff0000;stroke:#ff0000;stroke-width:1.5;\" x=\"268.562486\" xlink:href=\"#m08d7c01258\" y=\"94.344745\"/>\n     <use style=\"fill:#ff0000;stroke:#ff0000;stroke-width:1.5;\" x=\"328.683698\" xlink:href=\"#m08d7c01258\" y=\"65.417029\"/>\n     <use style=\"fill:#ff0000;stroke:#ff0000;stroke-width:1.5;\" x=\"238.50188\" xlink:href=\"#m08d7c01258\" y=\"108.808603\"/>\n     <use style=\"fill:#ff0000;stroke:#ff0000;stroke-width:1.5;\" x=\"283.592789\" xlink:href=\"#m08d7c01258\" y=\"43.721242\"/>\n     <use style=\"fill:#ff0000;stroke:#ff0000;stroke-width:1.5;\" x=\"313.653395\" xlink:href=\"#m08d7c01258\" y=\"101.576674\"/>\n     <use style=\"fill:#ff0000;stroke:#ff0000;stroke-width:1.5;\" x=\"343.714001\" xlink:href=\"#m08d7c01258\" y=\"36.489313\"/>\n     <use style=\"fill:#ff0000;stroke:#ff0000;stroke-width:1.5;\" x=\"313.653395\" xlink:href=\"#m08d7c01258\" y=\"50.953171\"/>\n     <use style=\"fill:#ff0000;stroke:#ff0000;stroke-width:1.5;\" x=\"358.744304\" xlink:href=\"#m08d7c01258\" y=\"79.880887\"/>\n     <use style=\"fill:#ff0000;stroke:#ff0000;stroke-width:1.5;\" x=\"388.80491\" xlink:href=\"#m08d7c01258\" y=\"72.648958\"/>\n     <use style=\"fill:#ff0000;stroke:#ff0000;stroke-width:1.5;\" x=\"418.865516\" xlink:href=\"#m08d7c01258\" y=\"43.721242\"/>\n     <use style=\"fill:#ff0000;stroke:#ff0000;stroke-width:1.5;\" x=\"403.835213\" xlink:href=\"#m08d7c01258\" y=\"29.257384\"/>\n     <use style=\"fill:#ff0000;stroke:#ff0000;stroke-width:1.5;\" x=\"298.623092\" xlink:href=\"#m08d7c01258\" y=\"65.417029\"/>\n     <use style=\"fill:#ff0000;stroke:#ff0000;stroke-width:1.5;\" x=\"253.532183\" xlink:href=\"#m08d7c01258\" y=\"137.736319\"/>\n     <use style=\"fill:#ff0000;stroke:#ff0000;stroke-width:1.5;\" x=\"223.471577\" xlink:href=\"#m08d7c01258\" y=\"116.040532\"/>\n     <use style=\"fill:#ff0000;stroke:#ff0000;stroke-width:1.5;\" x=\"223.471577\" xlink:href=\"#m08d7c01258\" y=\"123.272461\"/>\n     <use style=\"fill:#ff0000;stroke:#ff0000;stroke-width:1.5;\" x=\"268.562486\" xlink:href=\"#m08d7c01258\" y=\"108.808603\"/>\n     <use style=\"fill:#ff0000;stroke:#ff0000;stroke-width:1.5;\" x=\"298.623092\" xlink:href=\"#m08d7c01258\" y=\"22.025455\"/>\n     <use style=\"fill:#ff0000;stroke:#ff0000;stroke-width:1.5;\" x=\"208.441274\" xlink:href=\"#m08d7c01258\" y=\"65.417029\"/>\n     <use style=\"fill:#ff0000;stroke:#ff0000;stroke-width:1.5;\" x=\"298.623092\" xlink:href=\"#m08d7c01258\" y=\"65.417029\"/>\n     <use style=\"fill:#ff0000;stroke:#ff0000;stroke-width:1.5;\" x=\"403.835213\" xlink:href=\"#m08d7c01258\" y=\"50.953171\"/>\n     <use style=\"fill:#ff0000;stroke:#ff0000;stroke-width:1.5;\" x=\"343.714001\" xlink:href=\"#m08d7c01258\" y=\"72.648958\"/>\n     <use style=\"fill:#ff0000;stroke:#ff0000;stroke-width:1.5;\" x=\"238.50188\" xlink:href=\"#m08d7c01258\" y=\"94.344745\"/>\n     <use style=\"fill:#ff0000;stroke:#ff0000;stroke-width:1.5;\" x=\"223.471577\" xlink:href=\"#m08d7c01258\" y=\"101.576674\"/>\n     <use style=\"fill:#ff0000;stroke:#ff0000;stroke-width:1.5;\" x=\"223.471577\" xlink:href=\"#m08d7c01258\" y=\"72.648958\"/>\n     <use style=\"fill:#ff0000;stroke:#ff0000;stroke-width:1.5;\" x=\"313.653395\" xlink:href=\"#m08d7c01258\" y=\"58.1851\"/>\n     <use style=\"fill:#ff0000;stroke:#ff0000;stroke-width:1.5;\" x=\"268.562486\" xlink:href=\"#m08d7c01258\" y=\"101.576674\"/>\n     <use style=\"fill:#ff0000;stroke:#ff0000;stroke-width:1.5;\" x=\"148.320062\" xlink:href=\"#m08d7c01258\" y=\"152.200177\"/>\n     <use style=\"fill:#ff0000;stroke:#ff0000;stroke-width:1.5;\" x=\"238.50188\" xlink:href=\"#m08d7c01258\" y=\"87.112816\"/>\n     <use style=\"fill:#ff0000;stroke:#ff0000;stroke-width:1.5;\" x=\"253.532183\" xlink:href=\"#m08d7c01258\" y=\"87.112816\"/>\n     <use style=\"fill:#ff0000;stroke:#ff0000;stroke-width:1.5;\" x=\"253.532183\" xlink:href=\"#m08d7c01258\" y=\"87.112816\"/>\n     <use style=\"fill:#ff0000;stroke:#ff0000;stroke-width:1.5;\" x=\"328.683698\" xlink:href=\"#m08d7c01258\" y=\"79.880887\"/>\n     <use style=\"fill:#ff0000;stroke:#ff0000;stroke-width:1.5;\" x=\"163.350365\" xlink:href=\"#m08d7c01258\" y=\"173.895965\"/>\n     <use style=\"fill:#ff0000;stroke:#ff0000;stroke-width:1.5;\" x=\"253.532183\" xlink:href=\"#m08d7c01258\" y=\"94.344745\"/>\n    </g>\n   </g>\n   <g id=\"patch_3\">\n    <path d=\"M 22.817031 333.36 \nL 22.817031 7.2 \n\" style=\"fill:none;stroke:#ffffff;stroke-linecap:square;stroke-linejoin:miter;stroke-width:1.25;\"/>\n   </g>\n   <g id=\"patch_4\">\n    <path d=\"M 469.217031 333.36 \nL 469.217031 7.2 \n\" style=\"fill:none;stroke:#ffffff;stroke-linecap:square;stroke-linejoin:miter;stroke-width:1.25;\"/>\n   </g>\n   <g id=\"patch_5\">\n    <path d=\"M 22.817031 333.36 \nL 469.217031 333.36 \n\" style=\"fill:none;stroke:#ffffff;stroke-linecap:square;stroke-linejoin:miter;stroke-width:1.25;\"/>\n   </g>\n   <g id=\"patch_6\">\n    <path d=\"M 22.817031 7.2 \nL 469.217031 7.2 \n\" style=\"fill:none;stroke:#ffffff;stroke-linecap:square;stroke-linejoin:miter;stroke-width:1.25;\"/>\n   </g>\n  </g>\n </g>\n <defs>\n  <clipPath id=\"p825728a7c0\">\n   <rect height=\"326.16\" width=\"446.4\" x=\"22.817031\" y=\"7.2\"/>\n  </clipPath>\n </defs>\n</svg>\n",
      "image/png": "[encoded data removed]"
     },
     "metadata": {}
    }
   ],
   "source": [
    "x = df['SepalLengthCm']\n",
    "y = df['PetalLengthCm']\n",
    "\n",
    "setosa_x = x[:50]\n",
    "setosa_y = y[:50]\n",
    "\n",
    "versicolor_x = x[50:]\n",
    "versicolor_y = y[50:]\n",
    "\n",
    "plt.figure(figsize=(8,6))\n",
    "plt.scatter(setosa_x,setosa_y,marker='+',color='green')\n",
    "plt.scatter(versicolor_x,versicolor_y,marker='_',color='red')\n",
    "plt.show()"
   ]
  },
  {
   "cell_type": "code",
   "execution_count": 11,
   "metadata": {},
   "outputs": [],
   "source": [
    "# there are four features available for us to use. We will be using only two features\n",
    "df = df.drop(['SepalWidthCm','PetalWidthCm'],axis=1)\n",
    "Y = []\n",
    "target = df['Species']\n",
    "\n",
    "for val in target:\n",
    "    if(val == 'Iris-setosa'):\n",
    "        Y.append(-1)\n",
    "    else:\n",
    "        Y.append(1)\n",
    "        \n",
    "df = df.drop(['Species'],axis=1)\n",
    "X = df.values.tolist()\n",
    "## Shuffle and split the data into training and test set\n",
    "X, Y = shuffle(X,Y)\n",
    "x_train = []\n",
    "y_train = []\n",
    "x_test = []\n",
    "y_test = []\n",
    "\n",
    "x_train, x_test, y_train, y_test = train_test_split(X, Y, train_size=0.9)\n",
    "\n",
    "x_train = np.array(x_train)\n",
    "y_train = np.array(y_train)\n",
    "x_test = np.array(x_test)\n",
    "y_test = np.array(y_test)\n",
    "\n",
    "y_train = y_train.reshape(90,1)\n",
    "y_test = y_test.reshape(10,1)"
   ]
  },
  {
   "cell_type": "code",
   "execution_count": 19,
   "metadata": {
    "tags": []
   },
   "outputs": [],
   "source": [
    "## Support Vector Machine \n",
    "train_f1 = x_train[:,0]\n",
    "train_f2 = x_train[:,1]\n",
    "\n",
    "train_f1 = train_f1.reshape(90,1)\n",
    "train_f2 = train_f2.reshape(90,1)\n",
    "\n",
    "w1 = np.zeros((90,1))\n",
    "w2 = np.zeros((90,1))\n",
    "\n",
    "epochs = 1\n",
    "alpha = 0.0001\n",
    "\n",
    "while(epochs < 10000):\n",
    "    y = w1 * train_f1 + w2 * train_f2\n",
    "    prod = y * y_train\n",
    "    # print(epochs)\n",
    "    count = 0\n",
    "\n",
    "    for val in prod:\n",
    "        if(val >= 1):\n",
    "            cost = 0\n",
    "            w1 = w1 - alpha * (2 * 1/epochs * w1)\n",
    "            w2 = w2 - alpha * (2 * 1/epochs * w2)\n",
    "            \n",
    "        else:\n",
    "            cost = 1 - val \n",
    "            w1 = w1 + alpha * (train_f1[count] * y_train[count] - 2 * 1/epochs * w1)\n",
    "            w2 = w2 + alpha * (train_f2[count] * y_train[count] - 2 * 1/epochs * w2)\n",
    "        count += 1\n",
    "\n",
    "    epochs += 1"
   ]
  },
  {
   "cell_type": "code",
   "execution_count": 17,
   "metadata": {},
   "outputs": [
    {
     "output_type": "stream",
     "name": "stdout",
     "text": [
      "1.0\n"
     ]
    }
   ],
   "source": [
    "## Clip the weights \n",
    "index = list(range(10,90))\n",
    "w1 = np.delete(w1,index)\n",
    "w2 = np.delete(w2,index)\n",
    "\n",
    "w1 = w1.reshape(10,1)\n",
    "w2 = w2.reshape(10,1)\n",
    "\n",
    "## Extract the test data features \n",
    "test_f1 = x_test[:,0]\n",
    "test_f2 = x_test[:,1]\n",
    "\n",
    "test_f1 = test_f1.reshape(10,1)\n",
    "test_f2 = test_f2.reshape(10,1)\n",
    "\n",
    "## Predict\n",
    "y_pred = w1 * test_f1 + w2 * test_f2\n",
    "predictions = []\n",
    "\n",
    "for val in y_pred:\n",
    "    if(val > 1):\n",
    "        predictions.append(1)\n",
    "    else:\n",
    "        predictions.append(-1)\n",
    "\n",
    "print(\"Accuray: {}\".format(accuracy_score(y_test, predictions)))"
   ]
  },
  {
   "cell_type": "code",
   "execution_count": 18,
   "metadata": {},
   "outputs": [
    {
     "output_type": "stream",
     "name": "stdout",
     "text": [
      "Accuray: 1.0\n",
      "/Users/christianlin/miniforge3/envs/apple_tensorflow/lib/python3.8/site-packages/sklearn/utils/validation.py:63: DataConversionWarning: A column-vector y was passed when a 1d array was expected. Please change the shape of y to (n_samples, ), for example using ravel().\n",
      "  return f(*args, **kwargs)\n"
     ]
    }
   ],
   "source": [
    "# Using library\n",
    "from sklearn.svm import SVC\n",
    "from sklearn.metrics import accuracy_score\n",
    "\n",
    "clf = SVC(kernel = 'linear')\n",
    "clf.fit(x_train, y_train)\n",
    "y_pred = clf.predict(x_test)\n",
    "\n",
    "print(\"Accuray: {}\".format(accuracy_score(y_pred, predictions)))"
   ]
  },
  {
   "cell_type": "code",
   "execution_count": null,
   "metadata": {},
   "outputs": [],
   "source": []
  }
 ]
}